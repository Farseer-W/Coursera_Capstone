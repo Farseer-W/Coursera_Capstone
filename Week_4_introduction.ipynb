{
  "nbformat": 4,
  "nbformat_minor": 0,
  "metadata": {
    "colab": {
      "name": "Week 4 introduction.ipynb",
      "provenance": [],
      "authorship_tag": "ABX9TyNOjr94jhxYP/DwG+utzDzp",
      "include_colab_link": true
    },
    "kernelspec": {
      "name": "python3",
      "display_name": "Python 3"
    },
    "language_info": {
      "name": "python"
    }
  },
  "cells": [
    {
      "cell_type": "markdown",
      "metadata": {
        "id": "view-in-github",
        "colab_type": "text"
      },
      "source": [
        "<a href=\"https://colab.research.google.com/github/Farseer-W/Coursera_Capstone/blob/master/Week_4_introduction.ipynb\" target=\"_parent\"><img src=\"https://colab.research.google.com/assets/colab-badge.svg\" alt=\"Open In Colab\"/></a>"
      ]
    },
    {
      "cell_type": "markdown",
      "metadata": {
        "id": "Fjvy2J-BgifH"
      },
      "source": [
        "\n",
        "**Introduction: Business Problem**\n",
        "\n",
        "In this assignment, we will be required to explore, segment, and cluster the neighborhoods in the city of Toronto.\n",
        "\n"
      ]
    },
    {
      "cell_type": "markdown",
      "metadata": {
        "id": "q3001mnpg_Vr"
      },
      "source": [
        "**Data**\n",
        "\n",
        "For this project we will use the following resources to analyse the areas of Toronto.\n",
        "\n",
        "\n",
        "\n",
        "Foursquare API Data: We will use Foursquare to provide information on the different areas in Toronto for specific boroughs. Foursquare is a location data provider with information about venues and events within an area of interest. Such information includes venue names, locations, menus and even photos.\n",
        "\n",
        "The data retrieved from Foursquare contained information of venues within a specified distance of the longitude and latitude of the postcodes. The information obtained per venue as follows:\n",
        "\n",
        "Neighborhood\n",
        "Neighborhood Latitude\n",
        "Neighborhood Longitude\n",
        "Venue\n",
        "Name of the venue e.g. the name of a store or restaurant\n",
        "Venue Latitude\n",
        "Venue Longitude\n",
        "Venue Category\n"
      ]
    },
    {
      "cell_type": "markdown",
      "metadata": {
        "id": "k5AmMPIKhayR"
      },
      "source": [
        "**Methodology** \n",
        "\n",
        "This project follows the following steps:\n",
        "\n",
        "\n",
        "Plot the Toronto Districts on a map to see their location\n",
        "Use Foursquare to retrieve a list of nearby venues for each Toronto district\n",
        "Graphically plot the Toronto districts total venue count.\n",
        "We will use the explore function to get the most common venue categories in each neighborhood, and then use this feature to group the neighborhoods into clusters. We will then use the k-means clustering algorithm to complete this task. Finally, will use the Folium library to visualize the neighborhoods in Toronto and their emerging clusters."
      ]
    }
  ]
}